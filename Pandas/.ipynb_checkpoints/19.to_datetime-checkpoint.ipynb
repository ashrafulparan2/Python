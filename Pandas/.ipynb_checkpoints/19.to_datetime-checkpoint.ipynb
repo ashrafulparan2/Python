{
 "cells": [
  {
   "cell_type": "code",
   "execution_count": 7,
   "id": "0790b0e0",
   "metadata": {},
   "outputs": [
    {
     "data": {
      "text/plain": [
       "DatetimeIndex(['2017-01-05 14:30:00', '2017-01-05 14:30:00',\n",
       "               '2017-01-05 00:00:00', '2017-01-05 00:00:00',\n",
       "               '2017-01-05 00:00:00', '2017-01-05 00:00:00'],\n",
       "              dtype='datetime64[ns]', freq=None)"
      ]
     },
     "execution_count": 7,
     "metadata": {},
     "output_type": "execute_result"
    }
   ],
   "source": [
    "import pandas as pd\n",
    "dates = ['2017-01-05 2:30:00 PM', 'Jan 5, 2017 14:30', '01/05/2017', '2017.01.05', '2017/01/05','20170105']\n",
    "pd.to_datetime(dates, format='mixed')"
   ]
  },
  {
   "cell_type": "code",
   "execution_count": 8,
   "id": "f2887eb8",
   "metadata": {
    "scrolled": true
   },
   "outputs": [
    {
     "data": {
      "text/plain": [
       "Timestamp('2017-01-05 00:00:00')"
      ]
     },
     "execution_count": 8,
     "metadata": {},
     "output_type": "execute_result"
    }
   ],
   "source": [
    "pd.to_datetime('5/1/17', dayfirst=True)"
   ]
  },
  {
   "cell_type": "markdown",
   "id": "cfe45065",
   "metadata": {},
   "source": [
    "custom format"
   ]
  },
  {
   "cell_type": "code",
   "execution_count": 10,
   "id": "e78196ce",
   "metadata": {},
   "outputs": [
    {
     "data": {
      "text/plain": [
       "Timestamp('2017-01-05 00:00:00')"
      ]
     },
     "execution_count": 10,
     "metadata": {},
     "output_type": "execute_result"
    }
   ],
   "source": [
    "pd.to_datetime('5$1$2017', dayfirst=True, format = '%d$%m$%Y')"
   ]
  },
  {
   "cell_type": "markdown",
   "id": "968aa734",
   "metadata": {},
   "source": [
    "ignore invalid strings"
   ]
  },
  {
   "cell_type": "code",
   "execution_count": 11,
   "id": "351d6f8b",
   "metadata": {},
   "outputs": [
    {
     "data": {
      "text/plain": [
       "Index(['2017-01-05', 'Jan 6, 2017', 'abc'], dtype='object')"
      ]
     },
     "execution_count": 11,
     "metadata": {},
     "output_type": "execute_result"
    }
   ],
   "source": [
    "pd.to_datetime(['2017-01-05', 'Jan 6, 2017', 'abc'], errors='ignore')"
   ]
  },
  {
   "cell_type": "code",
   "execution_count": 15,
   "id": "392f9622",
   "metadata": {},
   "outputs": [
    {
     "data": {
      "text/plain": [
       "DatetimeIndex(['2017-01-05', '2017-01-06', 'NaT'], dtype='datetime64[ns]', freq=None)"
      ]
     },
     "execution_count": 15,
     "metadata": {},
     "output_type": "execute_result"
    }
   ],
   "source": [
    "pd.to_datetime(['2017-01-05', 'Jan 6, 2017', 'abc'], format='mixed', errors='coerce')"
   ]
  },
  {
   "cell_type": "markdown",
   "id": "e1091802",
   "metadata": {},
   "source": [
    "epoch format"
   ]
  },
  {
   "cell_type": "code",
   "execution_count": 19,
   "id": "650d1904",
   "metadata": {},
   "outputs": [
    {
     "data": {
      "text/plain": [
       "DatetimeIndex(['2017-07-29 10:34:38'], dtype='datetime64[ns]', freq=None)"
      ]
     },
     "execution_count": 19,
     "metadata": {},
     "output_type": "execute_result"
    }
   ],
   "source": [
    "t = 1501324478\n",
    "dt = pd.to_datetime([t], unit='s')\n",
    "dt"
   ]
  },
  {
   "cell_type": "code",
   "execution_count": 22,
   "id": "fa3bce34",
   "metadata": {},
   "outputs": [
    {
     "data": {
      "text/plain": [
       "array([1501324478000000000], dtype=int64)"
      ]
     },
     "execution_count": 22,
     "metadata": {},
     "output_type": "execute_result"
    }
   ],
   "source": [
    "dt.view('int64')"
   ]
  }
 ],
 "metadata": {
  "kernelspec": {
   "display_name": "Python 3 (ipykernel)",
   "language": "python",
   "name": "python3"
  },
  "language_info": {
   "codemirror_mode": {
    "name": "ipython",
    "version": 3
   },
   "file_extension": ".py",
   "mimetype": "text/x-python",
   "name": "python",
   "nbconvert_exporter": "python",
   "pygments_lexer": "ipython3",
   "version": "3.11.3"
  }
 },
 "nbformat": 4,
 "nbformat_minor": 5
}
