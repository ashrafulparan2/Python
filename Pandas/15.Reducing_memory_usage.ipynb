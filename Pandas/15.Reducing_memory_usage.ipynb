{
 "cells": [
  {
   "cell_type": "markdown",
   "id": "5d2bcf18",
   "metadata": {},
   "source": [
    "# Technique #1: Don’t load all the columns"
   ]
  },
  {
   "cell_type": "markdown",
   "id": "7253014c",
   "metadata": {},
   "source": [
    "# Technique #2: Shrink numerical columns with smaller dtypes"
   ]
  },
  {
   "cell_type": "markdown",
   "id": "34548444",
   "metadata": {},
   "source": [
    "# Technique #3: Shrink categorical data using Categorical dtypes"
   ]
  },
  {
   "cell_type": "markdown",
   "id": "bb81101b",
   "metadata": {},
   "source": [
    "# Technique #4: Sparse series"
   ]
  }
 ],
 "metadata": {
  "kernelspec": {
   "display_name": "Python 3 (ipykernel)",
   "language": "python",
   "name": "python3"
  },
  "language_info": {
   "codemirror_mode": {
    "name": "ipython",
    "version": 3
   },
   "file_extension": ".py",
   "mimetype": "text/x-python",
   "name": "python",
   "nbconvert_exporter": "python",
   "pygments_lexer": "ipython3",
   "version": "3.11.3"
  }
 },
 "nbformat": 4,
 "nbformat_minor": 5
}
