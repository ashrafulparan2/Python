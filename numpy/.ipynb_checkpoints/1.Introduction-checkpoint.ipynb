{
 "cells": [
  {
   "cell_type": "code",
   "execution_count": 2,
   "id": "4bedce1d",
   "metadata": {},
   "outputs": [
    {
     "data": {
      "text/plain": [
       "4000000"
      ]
     },
     "execution_count": 2,
     "metadata": {},
     "output_type": "execute_result"
    }
   ],
   "source": [
    "import numpy as np\n",
    "import time\n",
    "import sys\n",
    "\n",
    "a = np.arange(1000000)\n",
    "b = np.arange(1000000)\n",
    "a.size*a.itemsize"
   ]
  },
  {
   "cell_type": "code",
   "execution_count": 5,
   "id": "ada4d624",
   "metadata": {},
   "outputs": [
    {
     "data": {
      "text/plain": [
       "28000000"
      ]
     },
     "execution_count": 5,
     "metadata": {},
     "output_type": "execute_result"
    }
   ],
   "source": [
    "x = range(1000000)\n",
    "y = range(1000000)\n",
    "sys.getsizeof(5)*len(x)"
   ]
  },
  {
   "cell_type": "code",
   "execution_count": 10,
   "id": "a5e1003a",
   "metadata": {},
   "outputs": [
    {
     "data": {
      "text/plain": [
       "161.00215911865234"
      ]
     },
     "execution_count": 10,
     "metadata": {},
     "output_type": "execute_result"
    }
   ],
   "source": [
    "start=time.time()\n",
    "result = [(i+j) for i,j in zip(a,b)]\n",
    "end=time.time()\n",
    "(end-start)*1000"
   ]
  },
  {
   "cell_type": "code",
   "execution_count": 6,
   "id": "48efff65",
   "metadata": {},
   "outputs": [
    {
     "data": {
      "text/plain": [
       "103.99985313415527"
      ]
     },
     "execution_count": 6,
     "metadata": {},
     "output_type": "execute_result"
    }
   ],
   "source": [
    "start=time.time()\n",
    "result = [(i+j) for i,j in zip(x,y)]\n",
    "end=time.time()\n",
    "(end-start)*1000"
   ]
  }
 ],
 "metadata": {
  "kernelspec": {
   "display_name": "Python 3 (ipykernel)",
   "language": "python",
   "name": "python3"
  },
  "language_info": {
   "codemirror_mode": {
    "name": "ipython",
    "version": 3
   },
   "file_extension": ".py",
   "mimetype": "text/x-python",
   "name": "python",
   "nbconvert_exporter": "python",
   "pygments_lexer": "ipython3",
   "version": "3.11.3"
  }
 },
 "nbformat": 4,
 "nbformat_minor": 5
}
